{
 "cells": [
  {
   "cell_type": "code",
   "execution_count": 1,
   "id": "fcd1efd0",
   "metadata": {},
   "outputs": [],
   "source": [
    "import pandas as pd\n",
    "import numpy as np\n",
    "\n",
    "from sklearn.linear_model import LogisticRegression\n",
    "from sklearn.model_selection import train_test_split\n",
    "\n",
    "from sklearn.metrics import accuracy_score, confusion_matrix, classification_report\n",
    "from sklearn.metrics import plot_confusion_matrix,roc_curve\n",
    "from sklearn.metrics import precision_score,recall_score, f1_score\n",
    "\n",
    "import matplotlib.pyplot as plt\n",
    "import seaborn as sns\n",
    "\n",
    "import warnings\n",
    "warnings.filterwarnings('ignore')"
   ]
  },
  {
   "cell_type": "code",
   "execution_count": 2,
   "id": "3478ab4d",
   "metadata": {},
   "outputs": [
    {
     "data": {
      "text/html": [
       "<div>\n",
       "<style scoped>\n",
       "    .dataframe tbody tr th:only-of-type {\n",
       "        vertical-align: middle;\n",
       "    }\n",
       "\n",
       "    .dataframe tbody tr th {\n",
       "        vertical-align: top;\n",
       "    }\n",
       "\n",
       "    .dataframe thead th {\n",
       "        text-align: right;\n",
       "    }\n",
       "</style>\n",
       "<table border=\"1\" class=\"dataframe\">\n",
       "  <thead>\n",
       "    <tr style=\"text-align: right;\">\n",
       "      <th></th>\n",
       "      <th>mean_radius</th>\n",
       "      <th>mean_texture</th>\n",
       "      <th>mean_perimeter</th>\n",
       "      <th>mean_area</th>\n",
       "      <th>mean_smoothness</th>\n",
       "      <th>diagnosis</th>\n",
       "    </tr>\n",
       "  </thead>\n",
       "  <tbody>\n",
       "    <tr>\n",
       "      <th>0</th>\n",
       "      <td>17.99</td>\n",
       "      <td>10.38</td>\n",
       "      <td>122.80</td>\n",
       "      <td>1001.0</td>\n",
       "      <td>0.11840</td>\n",
       "      <td>0</td>\n",
       "    </tr>\n",
       "    <tr>\n",
       "      <th>1</th>\n",
       "      <td>20.57</td>\n",
       "      <td>17.77</td>\n",
       "      <td>132.90</td>\n",
       "      <td>1326.0</td>\n",
       "      <td>0.08474</td>\n",
       "      <td>0</td>\n",
       "    </tr>\n",
       "    <tr>\n",
       "      <th>2</th>\n",
       "      <td>19.69</td>\n",
       "      <td>21.25</td>\n",
       "      <td>130.00</td>\n",
       "      <td>1203.0</td>\n",
       "      <td>0.10960</td>\n",
       "      <td>0</td>\n",
       "    </tr>\n",
       "    <tr>\n",
       "      <th>3</th>\n",
       "      <td>11.42</td>\n",
       "      <td>20.38</td>\n",
       "      <td>77.58</td>\n",
       "      <td>386.1</td>\n",
       "      <td>0.14250</td>\n",
       "      <td>0</td>\n",
       "    </tr>\n",
       "    <tr>\n",
       "      <th>4</th>\n",
       "      <td>20.29</td>\n",
       "      <td>14.34</td>\n",
       "      <td>135.10</td>\n",
       "      <td>1297.0</td>\n",
       "      <td>0.10030</td>\n",
       "      <td>0</td>\n",
       "    </tr>\n",
       "    <tr>\n",
       "      <th>...</th>\n",
       "      <td>...</td>\n",
       "      <td>...</td>\n",
       "      <td>...</td>\n",
       "      <td>...</td>\n",
       "      <td>...</td>\n",
       "      <td>...</td>\n",
       "    </tr>\n",
       "    <tr>\n",
       "      <th>564</th>\n",
       "      <td>21.56</td>\n",
       "      <td>22.39</td>\n",
       "      <td>142.00</td>\n",
       "      <td>1479.0</td>\n",
       "      <td>0.11100</td>\n",
       "      <td>0</td>\n",
       "    </tr>\n",
       "    <tr>\n",
       "      <th>565</th>\n",
       "      <td>20.13</td>\n",
       "      <td>28.25</td>\n",
       "      <td>131.20</td>\n",
       "      <td>1261.0</td>\n",
       "      <td>0.09780</td>\n",
       "      <td>0</td>\n",
       "    </tr>\n",
       "    <tr>\n",
       "      <th>566</th>\n",
       "      <td>16.60</td>\n",
       "      <td>28.08</td>\n",
       "      <td>108.30</td>\n",
       "      <td>858.1</td>\n",
       "      <td>0.08455</td>\n",
       "      <td>0</td>\n",
       "    </tr>\n",
       "    <tr>\n",
       "      <th>567</th>\n",
       "      <td>20.60</td>\n",
       "      <td>29.33</td>\n",
       "      <td>140.10</td>\n",
       "      <td>1265.0</td>\n",
       "      <td>0.11780</td>\n",
       "      <td>0</td>\n",
       "    </tr>\n",
       "    <tr>\n",
       "      <th>568</th>\n",
       "      <td>7.76</td>\n",
       "      <td>24.54</td>\n",
       "      <td>47.92</td>\n",
       "      <td>181.0</td>\n",
       "      <td>0.05263</td>\n",
       "      <td>1</td>\n",
       "    </tr>\n",
       "  </tbody>\n",
       "</table>\n",
       "<p>569 rows × 6 columns</p>\n",
       "</div>"
      ],
      "text/plain": [
       "     mean_radius  mean_texture  mean_perimeter  mean_area  mean_smoothness  \\\n",
       "0          17.99         10.38          122.80     1001.0          0.11840   \n",
       "1          20.57         17.77          132.90     1326.0          0.08474   \n",
       "2          19.69         21.25          130.00     1203.0          0.10960   \n",
       "3          11.42         20.38           77.58      386.1          0.14250   \n",
       "4          20.29         14.34          135.10     1297.0          0.10030   \n",
       "..           ...           ...             ...        ...              ...   \n",
       "564        21.56         22.39          142.00     1479.0          0.11100   \n",
       "565        20.13         28.25          131.20     1261.0          0.09780   \n",
       "566        16.60         28.08          108.30      858.1          0.08455   \n",
       "567        20.60         29.33          140.10     1265.0          0.11780   \n",
       "568         7.76         24.54           47.92      181.0          0.05263   \n",
       "\n",
       "     diagnosis  \n",
       "0            0  \n",
       "1            0  \n",
       "2            0  \n",
       "3            0  \n",
       "4            0  \n",
       "..         ...  \n",
       "564          0  \n",
       "565          0  \n",
       "566          0  \n",
       "567          0  \n",
       "568          1  \n",
       "\n",
       "[569 rows x 6 columns]"
      ]
     },
     "execution_count": 2,
     "metadata": {},
     "output_type": "execute_result"
    }
   ],
   "source": [
    "df=pd.read_csv('B_cancer_data.csv')\n",
    "df"
   ]
  },
  {
   "cell_type": "code",
   "execution_count": 3,
   "id": "99eb92df",
   "metadata": {},
   "outputs": [
    {
     "name": "stdout",
     "output_type": "stream",
     "text": [
      "<class 'pandas.core.frame.DataFrame'>\n",
      "RangeIndex: 569 entries, 0 to 568\n",
      "Data columns (total 6 columns):\n",
      " #   Column           Non-Null Count  Dtype  \n",
      "---  ------           --------------  -----  \n",
      " 0   mean_radius      569 non-null    float64\n",
      " 1   mean_texture     569 non-null    float64\n",
      " 2   mean_perimeter   569 non-null    float64\n",
      " 3   mean_area        569 non-null    float64\n",
      " 4   mean_smoothness  569 non-null    float64\n",
      " 5   diagnosis        569 non-null    int64  \n",
      "dtypes: float64(5), int64(1)\n",
      "memory usage: 26.8 KB\n"
     ]
    }
   ],
   "source": [
    "df.info()"
   ]
  },
  {
   "cell_type": "code",
   "execution_count": 4,
   "id": "bf7f9b48",
   "metadata": {},
   "outputs": [
    {
     "data": {
      "text/plain": [
       "array([0, 1], dtype=int64)"
      ]
     },
     "execution_count": 4,
     "metadata": {},
     "output_type": "execute_result"
    }
   ],
   "source": [
    "df['diagnosis'].unique()"
   ]
  },
  {
   "cell_type": "code",
   "execution_count": 5,
   "id": "f820bc31",
   "metadata": {},
   "outputs": [
    {
     "data": {
      "text/plain": [
       "1    357\n",
       "0    212\n",
       "Name: diagnosis, dtype: int64"
      ]
     },
     "execution_count": 5,
     "metadata": {},
     "output_type": "execute_result"
    }
   ],
   "source": [
    "df['diagnosis'].value_counts()"
   ]
  },
  {
   "cell_type": "code",
   "execution_count": 6,
   "id": "e9fc9d29",
   "metadata": {},
   "outputs": [
    {
     "data": {
      "text/plain": [
       "<AxesSubplot:xlabel='diagnosis', ylabel='count'>"
      ]
     },
     "execution_count": 6,
     "metadata": {},
     "output_type": "execute_result"
    },
    {
     "data": {
      "image/png": "[encoded data removed]",
      "text/plain": [
       "<Figure size 432x288 with 1 Axes>"
      ]
     },
     "metadata": {
      "needs_background": "light"
     },
     "output_type": "display_data"
    }
   ],
   "source": [
    "sns.countplot(x = df['diagnosis'])"
   ]
  },
  {
   "cell_type": "code",
   "execution_count": 7,
   "id": "edc06d65",
   "metadata": {},
   "outputs": [],
   "source": [
    "#Train Test Split"
   ]
  },
  {
   "cell_type": "code",
   "execution_count": 8,
   "id": "2fb6fc60",
   "metadata": {},
   "outputs": [],
   "source": [
    "x = df.drop('diagnosis',axis = 1)\n",
    "y = df['diagnosis']\n",
    "\n",
    "x_train, x_test, y_train, y_test = train_test_split(x,y,test_size=0.25, random_state=100,stratify=y)"
   ]
  },
  {
   "cell_type": "code",
   "execution_count": 9,
   "id": "9da8975e",
   "metadata": {},
   "outputs": [
    {
     "data": {
      "text/plain": [
       "1    267\n",
       "0    159\n",
       "Name: diagnosis, dtype: int64"
      ]
     },
     "execution_count": 9,
     "metadata": {},
     "output_type": "execute_result"
    }
   ],
   "source": [
    "y_train.value_counts()"
   ]
  },
  {
   "cell_type": "code",
   "execution_count": 10,
   "id": "a97cadc3",
   "metadata": {},
   "outputs": [
    {
     "data": {
      "text/plain": [
       "1    90\n",
       "0    53\n",
       "Name: diagnosis, dtype: int64"
      ]
     },
     "execution_count": 10,
     "metadata": {},
     "output_type": "execute_result"
    }
   ],
   "source": [
    "y_test.value_counts()"
   ]
  },
  {
   "cell_type": "code",
   "execution_count": 11,
   "id": "9aa7ef13",
   "metadata": {},
   "outputs": [
    {
     "data": {
      "text/plain": [
       "mean_radius  mean_texture  mean_perimeter  mean_area  mean_smoothness\n",
       "6.981        13.43         43.79           143.5      0.11700            1\n",
       "14.970       19.76         95.50           690.2      0.08421            1\n",
       "14.960       19.10         97.03           687.3      0.08992            1\n",
       "14.950       18.77         97.84           689.5      0.08138            1\n",
       "14.920       14.93         96.45           686.9      0.08098            1\n",
       "                                                                        ..\n",
       "12.060       18.90         76.66           445.3      0.08386            1\n",
       "12.050       22.72         78.75           447.8      0.06935            1\n",
       "             14.63         78.04           449.3      0.10310            1\n",
       "12.040       28.14         76.85           449.9      0.08752            1\n",
       "28.110       18.47         188.50          2499.0     0.11420            1\n",
       "Length: 426, dtype: int64"
      ]
     },
     "execution_count": 11,
     "metadata": {},
     "output_type": "execute_result"
    }
   ],
   "source": [
    "x_train.value_counts()"
   ]
  },
  {
   "cell_type": "code",
   "execution_count": 12,
   "id": "2722d1cc",
   "metadata": {},
   "outputs": [
    {
     "data": {
      "text/plain": [
       "mean_radius  mean_texture  mean_perimeter  mean_area  mean_smoothness\n",
       "9.295        13.90         59.96           257.8      0.13710            1\n",
       "14.870       20.21         96.12           680.9      0.09587            1\n",
       "14.410       19.73         96.03           651.0      0.08757            1\n",
       "14.440       15.18         93.97           640.1      0.09970            1\n",
       "14.450       20.22         94.49           642.7      0.09872            1\n",
       "                                                                        ..\n",
       "12.750       16.70         82.51           493.8      0.11250            1\n",
       "12.760       13.37         82.29           504.1      0.08794            1\n",
       "             18.84         81.87           496.6      0.09676            1\n",
       "12.770       21.41         82.02           507.4      0.08749            1\n",
       "25.730       17.46         174.20          2010.0     0.11490            1\n",
       "Length: 143, dtype: int64"
      ]
     },
     "execution_count": 12,
     "metadata": {},
     "output_type": "execute_result"
    }
   ],
   "source": [
    "x_test.value_counts()"
   ]
  },
  {
   "cell_type": "code",
   "execution_count": 13,
   "id": "2d4484b6",
   "metadata": {},
   "outputs": [],
   "source": [
    "#Model-Training"
   ]
  },
  {
   "cell_type": "code",
   "execution_count": 14,
   "id": "2271eb6a",
   "metadata": {},
   "outputs": [
    {
     "data": {
      "text/plain": [
       "LogisticRegression()"
      ]
     },
     "execution_count": 14,
     "metadata": {},
     "output_type": "execute_result"
    }
   ],
   "source": [
    "logistic_model = LogisticRegression()\n",
    "logistic_model.fit(x_train, y_train)"
   ]
  },
  {
   "cell_type": "code",
   "execution_count": 15,
   "id": "7ae6a1ca",
   "metadata": {},
   "outputs": [
    {
     "data": {
      "text/plain": [
       "<sklearn.metrics._plot.confusion_matrix.ConfusionMatrixDisplay at 0x9b46cd4d00>"
      ]
     },
     "execution_count": 15,
     "metadata": {},
     "output_type": "execute_result"
    },
    {
     "data": {
      "image/png": "[encoded data removed]",
      "text/plain": [
       "<Figure size 432x288 with 2 Axes>"
      ]
     },
     "metadata": {
      "needs_background": "light"
     },
     "output_type": "display_data"
    }
   ],
   "source": [
    "plot_confusion_matrix(logistic_model,x_train, y_train)#.................Trainig data"
   ]
  },
  {
   "cell_type": "code",
   "execution_count": 16,
   "id": "455b72a3",
   "metadata": {},
   "outputs": [
    {
     "data": {
      "text/plain": [
       "<sklearn.metrics._plot.confusion_matrix.ConfusionMatrixDisplay at 0x9b46cd4880>"
      ]
     },
     "execution_count": 16,
     "metadata": {},
     "output_type": "execute_result"
    },
    {
     "data": {
      "image/png": "[encoded data removed]",
      "text/plain": [
       "<Figure size 432x288 with 2 Axes>"
      ]
     },
     "metadata": {
      "needs_background": "light"
     },
     "output_type": "display_data"
    }
   ],
   "source": [
    "plot_confusion_matrix(logistic_model,x_test, y_test)#............Testing data"
   ]
  },
  {
   "cell_type": "code",
   "execution_count": 17,
   "id": "8e2cb26e",
   "metadata": {},
   "outputs": [],
   "source": [
    "#Evaluation"
   ]
  },
  {
   "cell_type": "code",
   "execution_count": 18,
   "id": "df84dd98",
   "metadata": {},
   "outputs": [
    {
     "name": "stdout",
     "output_type": "stream",
     "text": [
      "Confusion Matrix :\n",
      " [[45  8]\n",
      " [ 5 85]]\n",
      "****************************************************************************************\n",
      "Accuracy : 0.9090909090909091\n",
      "****************************************************************************************\n",
      "Classification Report :\n",
      "               precision    recall  f1-score   support\n",
      "\n",
      "           0       0.90      0.85      0.87        53\n",
      "           1       0.91      0.94      0.93        90\n",
      "\n",
      "    accuracy                           0.91       143\n",
      "   macro avg       0.91      0.90      0.90       143\n",
      "weighted avg       0.91      0.91      0.91       143\n",
      "\n"
     ]
    }
   ],
   "source": [
    "#Testing Data\n",
    "y_pred = logistic_model.predict(x_test)\n",
    "\n",
    "cnf_matrix = confusion_matrix(y_test, y_pred)\n",
    "print(\"Confusion Matrix :\\n\",cnf_matrix)\n",
    "\n",
    "print(\"*\"*88)\n",
    "accuracy = accuracy_score(y_test, y_pred)\n",
    "print(\"Accuracy :\",accuracy)\n",
    "print(\"*\"*88)\n",
    "\n",
    "clf_report = classification_report(y_test, y_pred)\n",
    "print(\"Classification Report :\\n\",clf_report)"
   ]
  },
  {
   "cell_type": "code",
   "execution_count": 19,
   "id": "d19de9f2",
   "metadata": {},
   "outputs": [
    {
     "data": {
      "text/plain": [
       "array([1, 0, 1, 1, 0, 1, 0, 1, 1, 1, 1, 1, 0, 1, 0, 1, 1, 1, 1, 1, 1, 1,\n",
       "       0, 1, 1, 1, 0, 1, 1, 1, 0, 0, 1, 1, 0, 0, 1, 1, 1, 1, 1, 1, 0, 0,\n",
       "       1, 1, 0, 1, 1, 0, 1, 0, 1, 0, 0, 1, 1, 0, 1, 1, 1, 1, 1, 1, 1, 1,\n",
       "       1, 0, 0, 1, 1, 1, 0, 0, 1, 0, 1, 1, 1, 0, 0, 0, 1, 1, 0, 1, 1, 1,\n",
       "       0, 1, 1, 1, 1, 0, 1, 1, 0, 0, 1, 1, 1, 1, 1, 1, 0, 0, 1, 0, 1, 0,\n",
       "       0, 1, 0, 1, 0, 1, 0, 1, 1, 0, 1, 1, 1, 1, 1, 0, 1, 1, 0, 0, 1, 1,\n",
       "       1, 1, 0, 1, 0, 1, 0, 0, 0, 1, 0], dtype=int64)"
      ]
     },
     "execution_count": 19,
     "metadata": {},
     "output_type": "execute_result"
    }
   ],
   "source": [
    "y_pred = logistic_model.predict(x_test)\n",
    "y_pred"
   ]
  },
  {
   "cell_type": "code",
   "execution_count": 20,
   "id": "2b68f4c5",
   "metadata": {},
   "outputs": [],
   "source": [
    "#Training Data"
   ]
  },
  {
   "cell_type": "code",
   "execution_count": 21,
   "id": "bb9c4104",
   "metadata": {},
   "outputs": [
    {
     "data": {
      "text/plain": [
       "array([[2.43966658e-02, 9.75603334e-01],\n",
       "       [5.10260924e-01, 4.89739076e-01],\n",
       "       [3.53856804e-02, 9.64614320e-01],\n",
       "       [1.15005970e-02, 9.88499403e-01],\n",
       "       [7.29884496e-01, 2.70115504e-01],\n",
       "       [1.15871709e-01, 8.84128291e-01],\n",
       "       [5.86274691e-01, 4.13725309e-01],\n",
       "       [9.31561262e-02, 9.06843874e-01],\n",
       "       [5.61263036e-02, 9.43873696e-01],\n",
       "       [1.41159767e-01, 8.58840233e-01],\n",
       "       [1.21237202e-02, 9.87876280e-01],\n",
       "       [7.73218757e-03, 9.92267812e-01],\n",
       "       [5.19061872e-01, 4.80938128e-01],\n",
       "       [3.11287725e-02, 9.68871228e-01],\n",
       "       [6.35268843e-01, 3.64731157e-01],\n",
       "       [1.28516092e-02, 9.87148391e-01],\n",
       "       [1.17635784e-01, 8.82364216e-01],\n",
       "       [9.92813404e-02, 9.00718660e-01],\n",
       "       [4.62865813e-01, 5.37134187e-01],\n",
       "       [7.69987957e-02, 9.23001204e-01],\n",
       "       [3.11102258e-02, 9.68889774e-01],\n",
       "       [1.89752011e-02, 9.81024799e-01],\n",
       "       [6.71643055e-01, 3.28356945e-01],\n",
       "       [4.32864872e-02, 9.56713513e-01],\n",
       "       [1.69952540e-02, 9.83004746e-01],\n",
       "       [2.15706860e-01, 7.84293140e-01],\n",
       "       [9.98548376e-01, 1.45162421e-03],\n",
       "       [1.37095008e-02, 9.86290499e-01],\n",
       "       [8.56644772e-02, 9.14335523e-01],\n",
       "       [2.22818299e-01, 7.77181701e-01],\n",
       "       [9.99971605e-01, 2.83945409e-05],\n",
       "       [8.54924281e-01, 1.45075719e-01],\n",
       "       [3.35040553e-01, 6.64959447e-01],\n",
       "       [5.71928289e-02, 9.42807171e-01],\n",
       "       [9.99751402e-01, 2.48597622e-04],\n",
       "       [9.30692257e-01, 6.93077426e-02],\n",
       "       [5.27874563e-02, 9.47212544e-01],\n",
       "       [5.95784618e-02, 9.40421538e-01],\n",
       "       [3.91230840e-02, 9.60876916e-01],\n",
       "       [4.94070124e-01, 5.05929876e-01],\n",
       "       [7.41825386e-03, 9.92581746e-01],\n",
       "       [5.15389258e-02, 9.48461074e-01],\n",
       "       [8.31821295e-01, 1.68178705e-01],\n",
       "       [9.98897111e-01, 1.10288851e-03],\n",
       "       [1.36516014e-01, 8.63483986e-01],\n",
       "       [2.55781875e-01, 7.44218125e-01],\n",
       "       [9.65140252e-01, 3.48597478e-02],\n",
       "       [6.72501706e-02, 9.32749829e-01],\n",
       "       [3.92070323e-02, 9.60792968e-01],\n",
       "       [9.99962191e-01, 3.78085331e-05],\n",
       "       [8.31236769e-02, 9.16876323e-01],\n",
       "       [9.82310186e-01, 1.76898144e-02],\n",
       "       [1.70351489e-02, 9.82964851e-01],\n",
       "       [8.55501899e-01, 1.44498101e-01],\n",
       "       [9.99960595e-01, 3.94047637e-05],\n",
       "       [9.60709753e-02, 9.03929025e-01],\n",
       "       [5.04895156e-02, 9.49510484e-01],\n",
       "       [7.94623677e-01, 2.05376323e-01],\n",
       "       [2.92056491e-02, 9.70794351e-01],\n",
       "       [3.04684261e-02, 9.69531574e-01],\n",
       "       [4.85193344e-01, 5.14806656e-01],\n",
       "       [7.35141597e-02, 9.26485840e-01],\n",
       "       [3.89581659e-02, 9.61041834e-01],\n",
       "       [3.14508339e-01, 6.85491661e-01],\n",
       "       [2.53476166e-02, 9.74652383e-01],\n",
       "       [3.05921807e-02, 9.69407819e-01],\n",
       "       [9.03496942e-02, 9.09650306e-01],\n",
       "       [9.98331122e-01, 1.66887783e-03],\n",
       "       [9.99995198e-01, 4.80230293e-06],\n",
       "       [1.05593927e-02, 9.89440607e-01],\n",
       "       [1.04292129e-01, 8.95707871e-01],\n",
       "       [1.18733886e-01, 8.81266114e-01],\n",
       "       [9.89554450e-01, 1.04455501e-02],\n",
       "       [9.99999709e-01, 2.91261475e-07],\n",
       "       [2.21655162e-01, 7.78344838e-01],\n",
       "       [9.70814258e-01, 2.91857424e-02],\n",
       "       [2.15458939e-01, 7.84541061e-01],\n",
       "       [1.26769450e-01, 8.73230550e-01],\n",
       "       [1.05956630e-01, 8.94043370e-01],\n",
       "       [9.98059432e-01, 1.94056820e-03],\n",
       "       [5.27029516e-01, 4.72970484e-01],\n",
       "       [6.46006698e-01, 3.53993302e-01],\n",
       "       [1.21227982e-01, 8.78772018e-01],\n",
       "       [2.21353843e-02, 9.77864616e-01],\n",
       "       [9.90380266e-01, 9.61973437e-03],\n",
       "       [1.37722563e-01, 8.62277437e-01],\n",
       "       [3.35828603e-01, 6.64171397e-01],\n",
       "       [2.17087557e-01, 7.82912443e-01],\n",
       "       [9.96956209e-01, 3.04379093e-03],\n",
       "       [7.79458666e-02, 9.22054133e-01],\n",
       "       [1.53931821e-01, 8.46068179e-01],\n",
       "       [3.37370011e-02, 9.66262999e-01],\n",
       "       [1.44984017e-01, 8.55015983e-01],\n",
       "       [9.99251256e-01, 7.48744266e-04],\n",
       "       [2.70172905e-01, 7.29827095e-01],\n",
       "       [5.90339107e-02, 9.40966089e-01],\n",
       "       [7.25655410e-01, 2.74344590e-01],\n",
       "       [9.99942904e-01, 5.70964181e-05],\n",
       "       [8.37359185e-03, 9.91626408e-01],\n",
       "       [4.87651773e-01, 5.12348227e-01],\n",
       "       [8.30063251e-03, 9.91699367e-01],\n",
       "       [2.50717101e-03, 9.97492829e-01],\n",
       "       [7.66207635e-02, 9.23379236e-01],\n",
       "       [1.98315036e-02, 9.80168496e-01],\n",
       "       [5.64875147e-01, 4.35124853e-01],\n",
       "       [9.81612747e-01, 1.83872532e-02],\n",
       "       [2.95640365e-02, 9.70435964e-01],\n",
       "       [9.34513245e-01, 6.54867554e-02],\n",
       "       [3.51788078e-02, 9.64821192e-01],\n",
       "       [9.89435987e-01, 1.05640129e-02],\n",
       "       [9.98601419e-01, 1.39858135e-03],\n",
       "       [3.32968101e-01, 6.67031899e-01],\n",
       "       [9.98645058e-01, 1.35494198e-03],\n",
       "       [2.87190565e-02, 9.71280943e-01],\n",
       "       [7.43190791e-01, 2.56809209e-01],\n",
       "       [1.47412847e-01, 8.52587153e-01],\n",
       "       [7.22443927e-01, 2.77556073e-01],\n",
       "       [7.28019654e-02, 9.27198035e-01],\n",
       "       [1.73821935e-01, 8.26178065e-01],\n",
       "       [9.33098830e-01, 6.69011704e-02],\n",
       "       [9.65422942e-02, 9.03457706e-01],\n",
       "       [4.52816751e-02, 9.54718325e-01],\n",
       "       [3.09712758e-01, 6.90287242e-01],\n",
       "       [3.87696681e-01, 6.12303319e-01],\n",
       "       [1.43578513e-02, 9.85642149e-01],\n",
       "       [9.89363747e-01, 1.06362533e-02],\n",
       "       [4.27108835e-01, 5.72891165e-01],\n",
       "       [8.35835122e-02, 9.16416488e-01],\n",
       "       [9.33378054e-01, 6.66219459e-02],\n",
       "       [9.58554451e-01, 4.14455486e-02],\n",
       "       [1.61126040e-02, 9.83887396e-01],\n",
       "       [6.66746076e-02, 9.33325392e-01],\n",
       "       [3.67198221e-02, 9.63280178e-01],\n",
       "       [1.09173441e-02, 9.89082656e-01],\n",
       "       [9.99999909e-01, 9.10779228e-08],\n",
       "       [2.67183572e-01, 7.32816428e-01],\n",
       "       [9.99999932e-01, 6.77271982e-08],\n",
       "       [5.52595472e-03, 9.94474045e-01],\n",
       "       [9.01474008e-01, 9.85259918e-02],\n",
       "       [9.99211260e-01, 7.88740099e-04],\n",
       "       [8.77017126e-01, 1.22982874e-01],\n",
       "       [1.89193805e-01, 8.10806195e-01],\n",
       "       [9.59137844e-01, 4.08621564e-02]])"
      ]
     },
     "execution_count": 21,
     "metadata": {},
     "output_type": "execute_result"
    }
   ],
   "source": [
    "y_pred_prob = logistic_model.predict_proba(x_test)\n",
    "y_pred_prob"
   ]
  },
  {
   "cell_type": "code",
   "execution_count": 22,
   "id": "1d94e6ef",
   "metadata": {},
   "outputs": [
    {
     "name": "stdout",
     "output_type": "stream",
     "text": [
      "Confusion Matrix :\n",
      " [[134  25]\n",
      " [ 13 254]]\n",
      "****************************************************************************************\n",
      "Accuracy : 0.9107981220657277\n",
      "****************************************************************************************\n",
      "Classification Report :\n",
      "               precision    recall  f1-score   support\n",
      "\n",
      "           0       0.91      0.84      0.88       159\n",
      "           1       0.91      0.95      0.93       267\n",
      "\n",
      "    accuracy                           0.91       426\n",
      "   macro avg       0.91      0.90      0.90       426\n",
      "weighted avg       0.91      0.91      0.91       426\n",
      "\n"
     ]
    }
   ],
   "source": [
    "y_pred_train = logistic_model.predict(x_train)\n",
    "\n",
    "cnf_matrix = confusion_matrix(y_train, y_pred_train)\n",
    "print(\"Confusion Matrix :\\n\",cnf_matrix)\n",
    "\n",
    "print(\"*\"*88)\n",
    "accuracy = accuracy_score(y_train, y_pred_train)\n",
    "print(\"Accuracy :\",accuracy)\n",
    "print(\"*\"*88)\n",
    "\n",
    "clf_report = classification_report(y_train, y_pred_train)\n",
    "print(\"Classification Report :\\n\",clf_report)"
   ]
  },
  {
   "cell_type": "code",
   "execution_count": 23,
   "id": "5336ccce",
   "metadata": {},
   "outputs": [],
   "source": [
    "y_pred_prob = logistic_model.predict_proba(x_train)\n",
    "# y_pred_prob[:,1]\n",
    "fpr,tpr,thresh = roc_curve(y_train,y_pred_prob[:,1])\n",
    "# tpr"
   ]
  },
  {
   "cell_type": "code",
   "execution_count": 24,
   "id": "09eb2240",
   "metadata": {},
   "outputs": [
    {
     "data": {
      "text/plain": [
       "Text(0.5, 1.0, 'Receiver Operating Characteristic Curve')"
      ]
     },
     "execution_count": 24,
     "metadata": {},
     "output_type": "execute_result"
    },
    {
     "data": {
      "image/png": "[encoded data removed]",
      "text/plain": [
       "<Figure size 432x288 with 1 Axes>"
      ]
     },
     "metadata": {
      "needs_background": "light"
     },
     "output_type": "display_data"
    }
   ],
   "source": [
    "plt.plot(fpr,tpr)\n",
    "plt.xlabel(\"False Positive Rate (FPR)\")\n",
    "plt.ylabel(\"True Positive Rate(TPR)\")\n",
    "plt.title(\"Receiver Operating Characteristic Curve\")"
   ]
  },
  {
   "cell_type": "code",
   "execution_count": 25,
   "id": "ad4f25c6",
   "metadata": {},
   "outputs": [],
   "source": [
    "#Testing on single Row-"
   ]
  },
  {
   "cell_type": "code",
   "execution_count": 26,
   "id": "84d33791",
   "metadata": {},
   "outputs": [
    {
     "data": {
      "text/plain": [
       "mean_radius         16.07000\n",
       "mean_texture        19.65000\n",
       "mean_perimeter     104.10000\n",
       "mean_area          817.70000\n",
       "mean_smoothness      0.09168\n",
       "Name: 75, dtype: float64"
      ]
     },
     "execution_count": 26,
     "metadata": {},
     "output_type": "execute_result"
    }
   ],
   "source": [
    "x_test.iloc[4]"
   ]
  },
  {
   "cell_type": "code",
   "execution_count": 27,
   "id": "9bc00673",
   "metadata": {},
   "outputs": [
    {
     "data": {
      "text/plain": [
       "{'columns': ['mean_radius',\n",
       "  'mean_texture',\n",
       "  'mean_perimeter',\n",
       "  'mean_area',\n",
       "  'mean_smoothness']}"
      ]
     },
     "execution_count": 27,
     "metadata": {},
     "output_type": "execute_result"
    }
   ],
   "source": [
    "project_data={'columns':list(x.columns)}\n",
    "project_data "
   ]
  },
  {
   "cell_type": "code",
   "execution_count": 28,
   "id": "ebbb85dd",
   "metadata": {},
   "outputs": [
    {
     "data": {
      "text/plain": [
       "Index(['mean_radius', 'mean_texture', 'mean_perimeter', 'mean_area',\n",
       "       'mean_smoothness'],\n",
       "      dtype='object')"
      ]
     },
     "execution_count": 28,
     "metadata": {},
     "output_type": "execute_result"
    }
   ],
   "source": [
    "column_names = x.columns\n",
    "column_names"
   ]
  },
  {
   "cell_type": "code",
   "execution_count": 29,
   "id": "69d0205f",
   "metadata": {},
   "outputs": [],
   "source": [
    "mean_radius   =  16.07\n",
    "mean_texture  =  19.65\n",
    "mean_perimeter=  104.10\n",
    "mean_area     =  817.70\n",
    "mean_smoothness = 0.09"
   ]
  },
  {
   "cell_type": "code",
   "execution_count": 30,
   "id": "87b5cfeb",
   "metadata": {},
   "outputs": [
    {
     "name": "stdout",
     "output_type": "stream",
     "text": [
      "[ 16.  20. 104. 818.   0.]\n"
     ]
    }
   ],
   "source": [
    "test_array = np.zeros(x.shape[1])\n",
    "\n",
    "test_array[0] = mean_radius\n",
    "test_array[1] = mean_texture\n",
    "test_array[2] = mean_perimeter\n",
    "test_array[3] = mean_area\n",
    "test_array[4] = mean_smoothness\n",
    "\n",
    "\n",
    "print(np.around(test_array))\n"
   ]
  },
  {
   "cell_type": "code",
   "execution_count": 31,
   "id": "70204fc7",
   "metadata": {},
   "outputs": [
    {
     "data": {
      "text/plain": [
       "Index(['mean_radius', 'mean_texture', 'mean_perimeter', 'mean_area',\n",
       "       'mean_smoothness'],\n",
       "      dtype='object')"
      ]
     },
     "execution_count": 31,
     "metadata": {},
     "output_type": "execute_result"
    }
   ],
   "source": [
    "column_names = x.columns\n",
    "column_names"
   ]
  },
  {
   "cell_type": "code",
   "execution_count": 32,
   "id": "9d9d251f",
   "metadata": {},
   "outputs": [],
   "source": [
    "import pickle\n",
    "with open('Logistic_Model.pkl','wb') as f:\n",
    "    pickle.dump(logistic_model,f)"
   ]
  },
  {
   "cell_type": "code",
   "execution_count": 33,
   "id": "bd2f080d",
   "metadata": {},
   "outputs": [],
   "source": [
    "import json\n",
    "with open(\"project_data.json\",'w') as f:\n",
    "    json.dump(project_data,f)"
   ]
  },
  {
   "cell_type": "code",
   "execution_count": null,
   "id": "767c4dee",
   "metadata": {},
   "outputs": [],
   "source": []
  }
 ],
 "metadata": {
  "kernelspec": {
   "display_name": "Python 3 (ipykernel)",
   "language": "python",
   "name": "python3"
  },
  "language_info": {
   "codemirror_mode": {
    "name": "ipython",
    "version": 3
   },
   "file_extension": ".py",
   "mimetype": "text/x-python",
   "name": "python",
   "nbconvert_exporter": "python",
   "pygments_lexer": "ipython3",
   "version": "3.9.12"
  }
 },
 "nbformat": 4,
 "nbformat_minor": 5
}
